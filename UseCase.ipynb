{
 "cells": [
  {
   "cell_type": "code",
   "execution_count": 98,
   "metadata": {},
   "outputs": [],
   "source": [
    "from sklearn import metrics\n",
    "import numpy as np\n",
    "import pandas as pd\n",
    "from scipy import stats as st"
   ]
  },
  {
   "cell_type": "code",
   "execution_count": 99,
   "metadata": {},
   "outputs": [],
   "source": [
    "# re-construct the parameters of the training and test data set\n",
    "num_features = 50\n",
    "num_indv = 40\n",
    "num_obsr = 40\n",
    "flag = \"bcd\"\n",
    "\n",
    "alpha_b = 1\n",
    "np.random.seed(1)  # this is fixed\n",
    "ind = 10 # only keep 10 non-zero effects\n",
    "intersect = 5\n",
    "bi = np.random.uniform(1,0,size=ind)\n",
    "bo = np.random.uniform(1,0,size=ind)\n",
    "bi = np.append(bi,np.zeros(num_features - ind))\n",
    "if num_features > intersect + ind:\n",
    "    bo = np.append(np.zeros(intersect),bo)\n",
    "    bo = np.append(bo,np.zeros(num_features - intersect - ind))\n",
    "else:\n",
    "    bo = np.append(np.zeros(intersect),bo)[:num_features]\n",
    "halfInd = int(ind/2)\n",
    "bi[ind:] = 0\n",
    "bo[:halfInd] = 0\n",
    "bo[(halfInd + ind):] = 0\n",
    "fixedEff = [1,2,3,-1,-2,-3,7,10]\n",
    "fixedEff = np.append(fixedEff,np.zeros([num_features - len(fixedEff)]))\n",
    "\n",
    "# get theta\n",
    "thetai = np.zeros([num_indv,num_features])\n",
    "for i in range(num_features):\n",
    "    if bi[i] > 0:\n",
    "        thetai[:,i] = st.laplace.rvs(loc = 0,scale = bi[i],size=num_indv)\n",
    "thetao = np.zeros([num_obsr,num_features])\n",
    "for i in range(num_features):\n",
    "    if bo[i] > 0:\n",
    "        thetao[:,i] = st.laplace.rvs(loc = 0,scale = bo[i],size=num_obsr)\n",
    "    \n",
    "def getDataset(dataFr):\n",
    "    features = list(dataFr.iloc[:,np.arange(num_features)].values)\n",
    "    data = pd.DataFrame()\n",
    "    data['feature'] = features\n",
    "    data['iid'] = dataFr['iid']\n",
    "    data['oid'] = dataFr['oid'] + num_indv\n",
    "    data['label'] = dataFr['label']\n",
    "    return data"
   ]
  },
  {
   "cell_type": "code",
   "execution_count": 100,
   "metadata": {},
   "outputs": [
    {
     "name": "stdout",
     "output_type": "stream",
     "text": [
      "initalization ...\n",
      "Iter    TrLL    TeLL   TrRMSE   TeRMSE   TrR2   TeR2\n",
      "0    -7.0212    -2.8525    14.4877    14.1848    -0.0003    -0.0038\n",
      "1    -3.5307    -3.7265    2.2742    12.4995    0.9754    0.2205\n",
      "2    -3.2669    -3.3656    1.7334    11.4739    0.9857    0.3432\n",
      "3    -3.1331    -3.1432    1.7268    10.8015    0.9858    0.4179\n",
      "4    -3.0538    -2.9844    1.7038    10.1488    0.9862    0.4861\n",
      "5    -3.0087    -2.8899    1.6901    9.7222    0.9864    0.5284\n",
      "finish initialization...\n",
      "Iter    TrLL    TeLL   TrRMSE   TeRMSE   TrR2   TeR2\n",
      "0    -0.7481    -2.9395    1.6901    9.7222    0.9864    0.5284\n",
      "1    0.0617    -1.2558    1.8180    8.7177    0.9842    0.6208\n",
      "2    2.5720    2.3624    2.2955    7.6084    0.9749    0.7112\n",
      "3    7.7521    8.1550    2.7993    6.0946    0.9627    0.8147\n",
      "4    13.7321    14.3673    3.0210    4.6576    0.9565    0.8918\n",
      "5    18.1966    18.8855    3.0106    3.9392    0.9568    0.9226\n",
      "6    19.1703    19.8582    2.9598    3.7781    0.9582    0.9288\n",
      "7    19.3948    20.0826    2.9663    3.8012    0.9581    0.9279\n",
      "8    19.4017    20.0943    3.0031    3.8627    0.9570    0.9256\n",
      "convergence!\n"
     ]
    }
   ],
   "source": [
    "%run \"LMLFM.ipynb\"\n",
    "filePath = ''\n",
    "trainFname = filePath + 'train.csv'\n",
    "testFname = filePath + 'test.csv'\n",
    "trainFr = pd.read_csv(trainFname)\n",
    "testFr = pd.read_csv(testFname)\n",
    "train = getDataset(trainFr)\n",
    "test = getDataset(testFr)\n",
    "\n",
    "lmlfm = LMLFM(num_users, num_observations, num_features,verbose = True, iterations = 50,alpha = 15 / train.label.var(),epsilon = 1e-2)\n",
    "theta = lmlfm.fit(train,test)\n",
    "_,loss, r = lmlfm.evaluate(test)"
   ]
  },
  {
   "cell_type": "code",
   "execution_count": 101,
   "metadata": {},
   "outputs": [
    {
     "name": "stdout",
     "output_type": "stream",
     "text": [
      "r2\n",
      "0.9255601830524917\n",
      "mse of bi\n",
      "0.06754934704253371\n",
      "mse of bo\n",
      "0.25914323236705833\n",
      "mse of beta\n",
      "0.06228817900800001\n",
      "fp\n",
      "0\n",
      "fn\n",
      "0\n"
     ]
    }
   ],
   "source": [
    "# the r2 score\n",
    "print('r2')\n",
    "print(r)\n",
    "\n",
    "# estimated bi\n",
    "estbi = np.round(lmlfm.b_i,5)\n",
    "msebi = np.mean(np.square(estbi[:ind] - bi[:ind]))\n",
    "print('mse of bi')\n",
    "print(msebi)\n",
    "\n",
    "# estimated bo\n",
    "estbo = np.round(lmlfm.b_o,5)\n",
    "msebo = np.mean(np.square(estbo[halfInd:(halfInd + ind)] - bo[halfInd:(halfInd + ind)]))\n",
    "print('mse of bo')\n",
    "print(msebo)\n",
    "\n",
    "# estimated fixed effects\n",
    "estbeta = np.round(lmlfm.fixedEffects(),5)\n",
    "msebeta = np.mean(np.square(estbeta - fixedEff))\n",
    "print('mse of beta')\n",
    "print(msebeta)\n",
    "\n",
    "fp = []\n",
    "fn = []\n",
    "hitfp = 0\n",
    "hitfn = 0\n",
    "for j in range(len(estbeta)):\n",
    "    if estbeta[j] != 0 and fixedEff[j] == 0:\n",
    "        hitfp += 1\n",
    "    if estbeta[j] == 0 and fixedEff[j] != 0:\n",
    "        hitfn += 1\n",
    "\n",
    "print('fp')\n",
    "print(hitfp)\n",
    "print('fn')\n",
    "print(hitfn)"
   ]
  }
 ],
 "metadata": {
  "kernelspec": {
   "display_name": "Python 3",
   "language": "python",
   "name": "python3"
  },
  "language_info": {
   "codemirror_mode": {
    "name": "ipython",
    "version": 3
   },
   "file_extension": ".py",
   "mimetype": "text/x-python",
   "name": "python",
   "nbconvert_exporter": "python",
   "pygments_lexer": "ipython3",
   "version": "3.6.5"
  }
 },
 "nbformat": 4,
 "nbformat_minor": 2
}
