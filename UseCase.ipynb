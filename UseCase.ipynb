{
 "cells": [
  {
   "cell_type": "code",
   "execution_count": 34,
   "metadata": {},
   "outputs": [],
   "source": [
    "from sklearn import metrics\n",
    "import numpy as np\n",
    "import pandas as pd\n",
    "from scipy import stats as st\n",
    "import torch\n",
    "dtype=torch.float"
   ]
  },
  {
   "cell_type": "code",
   "execution_count": 108,
   "metadata": {},
   "outputs": [],
   "source": [
    "# re-construct the parameters of the training and test data set\n",
    "num_features = 50\n",
    "num_users = 40\n",
    "num_observations = 40\n",
    "flag = \"bcd\"\n",
    "\n",
    "alpha_b = 1\n",
    "np.random.seed(1)  # this is fixed\n",
    "ind = 10 # only keep 10 non-zero effects\n",
    "intersect = 5\n",
    "bu = np.random.uniform(1,0,size=ind)\n",
    "bi = np.random.uniform(1,0,size=ind)\n",
    "bu = np.append(bu,np.zeros(num_features - ind))\n",
    "if num_features > intersect + ind:\n",
    "    bi = np.append(np.zeros(intersect),bi)\n",
    "    bi = np.append(bi,np.zeros(num_features - intersect - ind))\n",
    "else:\n",
    "    bi = np.append(np.zeros(intersect),bi)[:num_features]\n",
    "halfInd = int(ind/2)\n",
    "bu[ind:] = 0\n",
    "bi[:halfInd] = 0\n",
    "bi[(halfInd + ind):] = 0\n",
    "fixedEff = [1,2,3,-1,-2,-3,7,10]\n",
    "fixedEff = np.append(fixedEff,np.zeros([num_features - len(fixedEff)]))\n",
    "\n",
    "# get theta\n",
    "thetau = np.zeros([num_users,num_features])\n",
    "for i in range(num_features):\n",
    "    if bu[i] > 0:\n",
    "        thetau[:,i] = st.laplace.rvs(loc = 0,scale = bu[i],size=num_users)\n",
    "thetai = np.zeros([num_observations,num_features])\n",
    "for i in range(num_features):\n",
    "    if bi[i] > 0:\n",
    "        thetai[:,i] = st.laplace.rvs(loc = 0,scale = bi[i],size=num_observations)\n",
    "    \n",
    "def getDataset(dataFr):\n",
    "    features = list(dataFr.iloc[:,np.arange(num_features)].values)\n",
    "    data = pd.DataFrame()\n",
    "    data['feature'] = features\n",
    "    data['uid'] = dataFr['uid']\n",
    "    data['iid'] = dataFr['iid'] + num_users\n",
    "    data['rating'] = dataFr['label']\n",
    "    return data"
   ]
  },
  {
   "cell_type": "code",
   "execution_count": 107,
   "metadata": {},
   "outputs": [
    {
     "name": "stdout",
     "output_type": "stream",
     "text": [
      "initalization ...\n",
      "Iter    TrLL    TeLL   TrRMSE   TeRMSE   TrR2   TeR2\n",
      "0    -7.9133    -3.0767    14.4877    14.1848    -0.0003    -0.0038\n",
      "1    -3.5479    -4.0033    2.1777    12.7375    0.9774    0.1906\n",
      "2    -3.2802    -3.6361    1.4905    11.7777    0.9894    0.3079\n",
      "3    -3.1437    -3.3969    1.4762    11.1430    0.9896    0.3805\n",
      "4    -3.0563    -3.2182    1.4654    10.5473    0.9898    0.4450\n",
      "5    -2.9999    -3.0962    1.4438    10.0896    0.9901    0.4921\n",
      "finish initialization... 0.4793263470486332\n",
      "Iter    TrLL    TeLL   TrRMSE   TeRMSE   TrR2   TeR2\n",
      "0    -0.8830    -4.4570    1.4438    10.0896    0.9901    0.4921\n",
      "1    -0.3173    -3.6972    1.3743    9.3439    0.9910    0.5644\n",
      "2    0.6535    -1.6858    1.5007    8.7767    0.9893    0.6157\n",
      "3    3.2402    1.9258    1.7028    8.0936    0.9862    0.6732\n",
      "4    6.5577    5.9573    1.9060    7.2932    0.9827    0.7346\n",
      "5    9.7622    9.6751    2.1266    6.4105    0.9784    0.7950\n",
      "6    12.2294    12.5078    2.3353    5.3350    0.9740    0.8580\n",
      "7    15.6114    16.1252    2.5836    4.4436    0.9682    0.9015\n",
      "8    18.4071    19.0165    2.6806    3.8063    0.9658    0.9277\n",
      "9    19.2176    19.8425    2.7007    3.6951    0.9652    0.9319\n",
      "10    19.4219    20.0474    2.7104    3.7209    0.9650    0.9309\n",
      "11    19.4252    20.0561    2.7396    3.7561    0.9642    0.9296\n",
      "convergence!\n"
     ]
    }
   ],
   "source": [
    "%run \"MixFM.ipynb\"\n",
    "filePath = ''\n",
    "trainFname = filePath + 'train.csv'\n",
    "testFname = filePath + 'test.csv'\n",
    "dataFr = pd.read_csv(trainFname)\n",
    "testFr = pd.read_csv(testFname)\n",
    "data = getDataset(dataFr)\n",
    "test = getDataset(testFr)\n",
    "\n",
    "mixfmModel = MixFM(num_users, num_observations, num_features,verbose = True, iterations = 50,alpha = 18 / data.rating.var(),epsilon = 1e-2)\n",
    "w = mixfmModel.fit(data,test)\n",
    "_,loss, r = mixfmModel.evaluate(test)"
   ]
  },
  {
   "cell_type": "code",
   "execution_count": 110,
   "metadata": {},
   "outputs": [
    {
     "name": "stdout",
     "output_type": "stream",
     "text": [
      "r2\n",
      "0.9296130742140418\n",
      "mse of bu\n",
      "0.054655607742709646\n",
      "mse of bi\n",
      "0.24406359056097907\n",
      "mse of beta\n",
      "0.040809518968\n",
      "fp\n",
      "2\n",
      "fn\n",
      "0\n"
     ]
    }
   ],
   "source": [
    "# the r2 score\n",
    "print('r2')\n",
    "print(r)\n",
    "\n",
    "# estimated bu\n",
    "estbu = np.round(mixfmModel.b_u,5)\n",
    "msebu = np.mean(np.square(estbu[:ind] - bu[:ind]))\n",
    "print('mse of bu')\n",
    "print(msebu)\n",
    "\n",
    "# estimated bi\n",
    "estbi = np.round(mixfmModel.b_i,5)\n",
    "msebi = np.mean(np.square(estbi[halfInd:(halfInd + ind)] - bi[halfInd:(halfInd + ind)]))\n",
    "print('mse of bi')\n",
    "print(msebi)\n",
    "\n",
    "# estimated fixed effects\n",
    "estbeta = np.round(mixfmModel.fixedEffects(),5)\n",
    "msebeta = np.mean(np.square(estbeta - fixedEff))\n",
    "print('mse of beta')\n",
    "print(msebeta)\n",
    "\n",
    "fp = []\n",
    "fn = []\n",
    "hitfp = 0\n",
    "hitfn = 0\n",
    "for j in range(len(estbeta)):\n",
    "    if estbeta[j] != 0 and fixedEff[j] == 0:\n",
    "        hitfp += 1\n",
    "    if estbeta[j] == 0 and fixedEff[j] != 0:\n",
    "        hitfn += 1\n",
    "\n",
    "print('fp')\n",
    "print(hitfp)\n",
    "print('fn')\n",
    "print(hitfn)"
   ]
  }
 ],
 "metadata": {
  "kernelspec": {
   "display_name": "Python 3",
   "language": "python",
   "name": "python3"
  },
  "language_info": {
   "codemirror_mode": {
    "name": "ipython",
    "version": 3
   },
   "file_extension": ".py",
   "mimetype": "text/x-python",
   "name": "python",
   "nbconvert_exporter": "python",
   "pygments_lexer": "ipython3",
   "version": "3.6.5"
  }
 },
 "nbformat": 4,
 "nbformat_minor": 2
}
