{
 "cells": [
  {
   "cell_type": "code",
   "execution_count": 1,
   "metadata": {},
   "outputs": [],
   "source": [
    "import numpy as np\n",
    "import pandas as pd\n",
    "from scipy import stats as st"
   ]
  },
  {
   "cell_type": "code",
   "execution_count": 2,
   "metadata": {},
   "outputs": [],
   "source": [
    "# fixed is the fixed effects\n",
    "# the first len(fixed) features is for the fixed effect\n",
    "def getData_theta(thetau,thetai,fixed = [],seed = 0,level = 'bcd'):\n",
    "    np.random.seed(seed)\n",
    "    # generate the feature\n",
    "    \n",
    "    features = np.zeros([n,m,p])\n",
    "    \n",
    "    fixedLen = len(fixed)\n",
    "    fixedFeatures = np.zeros([n,m,fixedLen])\n",
    "    # all features follow a gaussian distribution N(0,I)\n",
    "    sd = 1\n",
    "    for u in range(n):\n",
    "        for i in range(m):\n",
    "            features[u,i] = np.random.normal(0,sd,p)\n",
    "            fixedFeatures[u,i] = features[u,i,:fixedLen]\n",
    "    \n",
    "    def getRating(u,i):\n",
    "        if level is 'longitudinal':\n",
    "            mean = features[u,i] @ thetau[u] + fixedFeatures[u,i] @ fixed\n",
    "        elif level is 'cluster':\n",
    "            mean = features[u,i] @ thetai[i] + fixedFeatures[u,i] @ fixed\n",
    "        elif level is 'level2':\n",
    "            mean = features[u,i] @ (thetau[u] + thetai[i]) + fixedFeatures[u,i] @ fixed\n",
    "        else:\n",
    "            mean = features[u,i] @ (thetau[u] + thetai[i]) + thetau[u] @ thetai[i] + fixedFeatures[u,i] @ fixed\n",
    "        sd = 1\n",
    "        return np.random.normal(mean,sd,1)[0]\n",
    "\n",
    "    # get the training and test data\n",
    "    uid = []\n",
    "    iid = []\n",
    "    feature = []\n",
    "    rating = []\n",
    "    print('total ratings to generate: {0}'.format(n * m))\n",
    "    for u in range(n):\n",
    "        for i in range(m):\n",
    "            uid.append(u)\n",
    "            iid.append(i)\n",
    "            feature.append(features[u,i])\n",
    "            rating.append(getRating(u,i))\n",
    "    return pd.DataFrame({'iid':uid,'oid':iid,'X':feature,'y':rating})"
   ]
  },
  {
   "cell_type": "code",
   "execution_count": 3,
   "metadata": {},
   "outputs": [],
   "source": [
    "def getLatestObservation(eachG):\n",
    "    return np.max(eachG['oid'].values)\n",
    "\n",
    "def filterLogic(row,d):\n",
    "    maxObs = d.get(row.iid,0)\n",
    "    if row.oid < maxObs:\n",
    "        return False\n",
    "    else:\n",
    "        return True\n",
    "    \n",
    "def getTrainTest(allData,seed,density):\n",
    "    np.random.seed(seed)\n",
    "    msk = np.random.rand(len(allData)) < density\n",
    "    data = allData[msk]\n",
    "    test = allData[~msk]\n",
    "    eachG = data.groupby('iid')\n",
    "    obs_each = eachG.apply(getLatestObservation)\n",
    "    d = {x:y for x,y in zip(obs_each.index.values,obs_each.values)}\n",
    "    mask = test.apply(filterLogic,d=d,axis=1)\n",
    "    nmask = [not x for x in mask]\n",
    "    data = pd.concat([data,test[nmask]],axis=0)\n",
    "    test = test[mask]\n",
    "    return data,test\n",
    "\n",
    "def generate(allData,seed = 100,density = 0.6):\n",
    "    train,test = getTrainTest(allData,seed,density)\n",
    "    return train,test"
   ]
  }
 ],
 "metadata": {
  "kernelspec": {
   "display_name": "Python 3",
   "language": "python",
   "name": "python3"
  },
  "language_info": {
   "codemirror_mode": {
    "name": "ipython",
    "version": 3
   },
   "file_extension": ".py",
   "mimetype": "text/x-python",
   "name": "python",
   "nbconvert_exporter": "python",
   "pygments_lexer": "ipython3",
   "version": "3.7.3"
  }
 },
 "nbformat": 4,
 "nbformat_minor": 2
}
